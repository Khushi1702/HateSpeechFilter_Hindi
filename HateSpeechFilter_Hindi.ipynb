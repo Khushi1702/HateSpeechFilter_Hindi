{
  "cells": [
    {
      "cell_type": "markdown",
      "metadata": {
        "id": "SZgzQV1VBPjL"
      },
      "source": [
        "# **Simple Pre-Processing of a single hindi comment**\n",
        "\n",
        "---\n",
        "\n",
        "\n",
        "\n",
        "---\n",
        "\n",
        "Preprocessing is preparing data for analysis or machine learning. It involves cleaning, transforming, and organizing data, including tasks like handling missing values, scaling features, and creating new features."
      ]
    },
    {
      "cell_type": "code",
      "execution_count": 2,
      "metadata": {
        "colab": {
          "base_uri": "https://localhost:8080/"
        },
        "id": "j1kYNrWSU2r6",
        "outputId": "bd3465e9-430a-4c54-8ecb-858e7ed85be3"
      },
      "outputs": [
        {
          "name": "stdout",
          "output_type": "stream",
          "text": [
            "सरकर हमश स कसन क कमई क बढन क लए नईनई सकम लत रहत ह तक उन पर जयद आरथक बझ न पड\n"
          ]
        }
      ],
      "source": [
        "import re\n",
        "\n",
        "def preprocess_comment(comment):\n",
        "    # Remove emojis and special characters\n",
        "    comment = re.sub(r'[^\\w\\s]', '', comment)\n",
        "    # Convert to lowercase\n",
        "    comment = comment.lower()\n",
        "    return comment\n",
        "\n",
        "comment = \"सरकार हमेशा से किसानों की कमाई को बढ़ाने के लिए नई-नई स्कीमें लाती रहती है, ताकि उन पर ज्यादा आर्थिक बोझ न पड़े\"\n",
        "preprocessed_comment = preprocess_comment(comment)\n",
        "print(preprocessed_comment)"
      ]
    },
    {
      "cell_type": "markdown",
      "metadata": {
        "id": "QmwPd3qiNPxR"
      },
      "source": [
        "# LiHiSTO Library\n",
        "\n",
        "---\n",
        "\n",
        "---\n",
        "\n",
        "\n",
        "\n",
        "\n",
        "Lihisto is a package with a comprehensive list of 820 Hindi Stopwords."
      ]
    },
    {
      "cell_type": "code",
      "execution_count": 3,
      "metadata": {
        "colab": {
          "base_uri": "https://localhost:8080/"
        },
        "id": "8sUkpNN-41_D",
        "outputId": "4e47c5ec-0858-43e5-8d8c-e3d0d6e7e807"
      },
      "outputs": [
        {
          "name": "stdout",
          "output_type": "stream",
          "text": [
            "Requirement already satisfied: LiHiSTO in c:\\users\\hp\\anaconda3\\envs\\torch_env\\lib\\site-packages (0.0.2)\n",
            "Note: you may need to restart the kernel to use updated packages.\n"
          ]
        }
      ],
      "source": [
        "pip install LiHiSTO"
      ]
    },
    {
      "cell_type": "markdown",
      "metadata": {
        "id": "usjjGTReNqlR"
      },
      "source": [
        "# Stopwords\n",
        "\n",
        "---\n",
        "\n",
        "\n",
        "---\n",
        "\n",
        "\n",
        "\n",
        "\n",
        "Stop words are common words (such as \"the\", \"is\", \"and\", \"in\") that are often filtered out during text preprocessing to focus on the more meaningful words in natural language processing tasks."
      ]
    },
    {
      "cell_type": "code",
      "execution_count": 4,
      "metadata": {
        "colab": {
          "base_uri": "https://localhost:8080/"
        },
        "id": "HE1Apm2W5VeE",
        "outputId": "ef01209e-1dfe-457a-856e-ffee41529e3e"
      },
      "outputs": [
        {
          "data": {
            "text/plain": [
              "820"
            ]
          },
          "execution_count": 4,
          "metadata": {},
          "output_type": "execute_result"
        }
      ],
      "source": [
        "from stopwords_hindi import hindi_sw\n",
        "sw = hindi_sw.get_hindi_sw()\n",
        "len(sw)"
      ]
    },
    {
      "cell_type": "markdown",
      "metadata": {
        "id": "8a9TaELKBZ4k"
      },
      "source": [
        "# **Performing all steps of pre-processing**\n",
        "\n",
        "---\n",
        "\n",
        "\n",
        "\n",
        "---\n",
        "\n"
      ]
    },
    {
      "cell_type": "markdown",
      "metadata": {
        "id": "uZHH2QSwiVVQ"
      },
      "source": [
        "# Unidecode\n",
        "\n",
        "---\n",
        "\n",
        "\n",
        "\n",
        "Unidecode is a Python library for transliterating Unicode characters into ASCII characters."
      ]
    },
    {
      "cell_type": "code",
      "execution_count": 5,
      "metadata": {
        "colab": {
          "base_uri": "https://localhost:8080/"
        },
        "id": "fs2oWv6XxNES",
        "outputId": "dd2ee951-4ba3-46e8-9de5-755b3dd57fc0"
      },
      "outputs": [
        {
          "name": "stdout",
          "output_type": "stream",
          "text": [
            "Requirement already satisfied: unidecode in c:\\users\\hp\\anaconda3\\envs\\torch_env\\lib\\site-packages (1.3.8)\n",
            "Note: you may need to restart the kernel to use updated packages.\n"
          ]
        }
      ],
      "source": [
        "pip install unidecode"
      ]
    },
    {
      "cell_type": "markdown",
      "metadata": {
        "id": "K3y4ijqLie_l"
      },
      "source": [
        "# Indic-nlp-library\n",
        "\n",
        "---\n",
        "\n",
        "Indic NLP Library is a Python library for natural language processing tasks specific to the languages of the Indian subcontinent.\n",
        "\n"
      ]
    },
    {
      "cell_type": "code",
      "execution_count": 6,
      "metadata": {
        "colab": {
          "base_uri": "https://localhost:8080/"
        },
        "id": "mBpd5ed3xvgf",
        "outputId": "304df7fc-6967-4d14-e232-e3e35c0ffae1"
      },
      "outputs": [
        {
          "name": "stdout",
          "output_type": "stream",
          "text": [
            "Requirement already satisfied: indic-nlp-library in c:\\users\\hp\\anaconda3\\envs\\torch_env\\lib\\site-packages (0.92)\n",
            "Requirement already satisfied: sphinx-argparse in c:\\users\\hp\\anaconda3\\envs\\torch_env\\lib\\site-packages (from indic-nlp-library) (0.4.0)\n",
            "Requirement already satisfied: sphinx-rtd-theme in c:\\users\\hp\\anaconda3\\envs\\torch_env\\lib\\site-packages (from indic-nlp-library) (3.0.2)\n",
            "Requirement already satisfied: morfessor in c:\\users\\hp\\anaconda3\\envs\\torch_env\\lib\\site-packages (from indic-nlp-library) (2.0.6)\n",
            "Requirement already satisfied: pandas in c:\\users\\hp\\anaconda3\\envs\\torch_env\\lib\\site-packages (from indic-nlp-library) (2.2.3)\n",
            "Requirement already satisfied: numpy in c:\\users\\hp\\anaconda3\\envs\\torch_env\\lib\\site-packages (from indic-nlp-library) (1.26.3)\n",
            "Requirement already satisfied: python-dateutil>=2.8.2 in c:\\users\\hp\\anaconda3\\envs\\torch_env\\lib\\site-packages (from pandas->indic-nlp-library) (2.9.0.post0)\n",
            "Requirement already satisfied: pytz>=2020.1 in c:\\users\\hp\\anaconda3\\envs\\torch_env\\lib\\site-packages (from pandas->indic-nlp-library) (2025.2)\n",
            "Requirement already satisfied: tzdata>=2022.7 in c:\\users\\hp\\anaconda3\\envs\\torch_env\\lib\\site-packages (from pandas->indic-nlp-library) (2025.2)\n",
            "Requirement already satisfied: sphinx>=1.2.0 in c:\\users\\hp\\anaconda3\\envs\\torch_env\\lib\\site-packages (from sphinx-argparse->indic-nlp-library) (7.4.7)\n",
            "Requirement already satisfied: docutils<0.22,>0.18 in c:\\users\\hp\\anaconda3\\envs\\torch_env\\lib\\site-packages (from sphinx-rtd-theme->indic-nlp-library) (0.21.2)\n",
            "Requirement already satisfied: sphinxcontrib-jquery<5,>=4 in c:\\users\\hp\\anaconda3\\envs\\torch_env\\lib\\site-packages (from sphinx-rtd-theme->indic-nlp-library) (4.1)\n",
            "Requirement already satisfied: six>=1.5 in c:\\users\\hp\\anaconda3\\envs\\torch_env\\lib\\site-packages (from python-dateutil>=2.8.2->pandas->indic-nlp-library) (1.17.0)\n",
            "Requirement already satisfied: sphinxcontrib-applehelp in c:\\users\\hp\\anaconda3\\envs\\torch_env\\lib\\site-packages (from sphinx>=1.2.0->sphinx-argparse->indic-nlp-library) (2.0.0)\n",
            "Requirement already satisfied: sphinxcontrib-devhelp in c:\\users\\hp\\anaconda3\\envs\\torch_env\\lib\\site-packages (from sphinx>=1.2.0->sphinx-argparse->indic-nlp-library) (2.0.0)\n",
            "Requirement already satisfied: sphinxcontrib-jsmath in c:\\users\\hp\\anaconda3\\envs\\torch_env\\lib\\site-packages (from sphinx>=1.2.0->sphinx-argparse->indic-nlp-library) (1.0.1)\n",
            "Requirement already satisfied: sphinxcontrib-htmlhelp>=2.0.0 in c:\\users\\hp\\anaconda3\\envs\\torch_env\\lib\\site-packages (from sphinx>=1.2.0->sphinx-argparse->indic-nlp-library) (2.1.0)\n",
            "Requirement already satisfied: sphinxcontrib-serializinghtml>=1.1.9 in c:\\users\\hp\\anaconda3\\envs\\torch_env\\lib\\site-packages (from sphinx>=1.2.0->sphinx-argparse->indic-nlp-library) (2.0.0)\n",
            "Requirement already satisfied: sphinxcontrib-qthelp in c:\\users\\hp\\anaconda3\\envs\\torch_env\\lib\\site-packages (from sphinx>=1.2.0->sphinx-argparse->indic-nlp-library) (2.0.0)\n",
            "Requirement already satisfied: Jinja2>=3.1 in c:\\users\\hp\\anaconda3\\envs\\torch_env\\lib\\site-packages (from sphinx>=1.2.0->sphinx-argparse->indic-nlp-library) (3.1.4)\n",
            "Requirement already satisfied: Pygments>=2.17 in c:\\users\\hp\\anaconda3\\envs\\torch_env\\lib\\site-packages (from sphinx>=1.2.0->sphinx-argparse->indic-nlp-library) (2.19.1)\n",
            "Requirement already satisfied: snowballstemmer>=2.2 in c:\\users\\hp\\anaconda3\\envs\\torch_env\\lib\\site-packages (from sphinx>=1.2.0->sphinx-argparse->indic-nlp-library) (2.2.0)\n",
            "Requirement already satisfied: babel>=2.13 in c:\\users\\hp\\anaconda3\\envs\\torch_env\\lib\\site-packages (from sphinx>=1.2.0->sphinx-argparse->indic-nlp-library) (2.17.0)\n",
            "Requirement already satisfied: alabaster~=0.7.14 in c:\\users\\hp\\anaconda3\\envs\\torch_env\\lib\\site-packages (from sphinx>=1.2.0->sphinx-argparse->indic-nlp-library) (0.7.16)\n",
            "Requirement already satisfied: imagesize>=1.3 in c:\\users\\hp\\anaconda3\\envs\\torch_env\\lib\\site-packages (from sphinx>=1.2.0->sphinx-argparse->indic-nlp-library) (1.4.1)\n",
            "Requirement already satisfied: requests>=2.30.0 in c:\\users\\hp\\anaconda3\\envs\\torch_env\\lib\\site-packages (from sphinx>=1.2.0->sphinx-argparse->indic-nlp-library) (2.32.3)\n",
            "Requirement already satisfied: packaging>=23.0 in c:\\users\\hp\\anaconda3\\envs\\torch_env\\lib\\site-packages (from sphinx>=1.2.0->sphinx-argparse->indic-nlp-library) (24.2)\n",
            "Requirement already satisfied: importlib-metadata>=6.0 in c:\\users\\hp\\anaconda3\\envs\\torch_env\\lib\\site-packages (from sphinx>=1.2.0->sphinx-argparse->indic-nlp-library) (8.6.1)\n",
            "Requirement already satisfied: tomli>=2 in c:\\users\\hp\\anaconda3\\envs\\torch_env\\lib\\site-packages (from sphinx>=1.2.0->sphinx-argparse->indic-nlp-library) (2.2.1)\n",
            "Requirement already satisfied: colorama>=0.4.6 in c:\\users\\hp\\anaconda3\\envs\\torch_env\\lib\\site-packages (from sphinx>=1.2.0->sphinx-argparse->indic-nlp-library) (0.4.6)\n",
            "Requirement already satisfied: zipp>=3.20 in c:\\users\\hp\\anaconda3\\envs\\torch_env\\lib\\site-packages (from importlib-metadata>=6.0->sphinx>=1.2.0->sphinx-argparse->indic-nlp-library) (3.21.0)\n",
            "Requirement already satisfied: MarkupSafe>=2.0 in c:\\users\\hp\\anaconda3\\envs\\torch_env\\lib\\site-packages (from Jinja2>=3.1->sphinx>=1.2.0->sphinx-argparse->indic-nlp-library) (2.1.5)\n",
            "Requirement already satisfied: charset_normalizer<4,>=2 in c:\\users\\hp\\anaconda3\\envs\\torch_env\\lib\\site-packages (from requests>=2.30.0->sphinx>=1.2.0->sphinx-argparse->indic-nlp-library) (3.4.1)\n",
            "Requirement already satisfied: idna<4,>=2.5 in c:\\users\\hp\\anaconda3\\envs\\torch_env\\lib\\site-packages (from requests>=2.30.0->sphinx>=1.2.0->sphinx-argparse->indic-nlp-library) (3.10)\n",
            "Requirement already satisfied: urllib3<3,>=1.21.1 in c:\\users\\hp\\anaconda3\\envs\\torch_env\\lib\\site-packages (from requests>=2.30.0->sphinx>=1.2.0->sphinx-argparse->indic-nlp-library) (2.3.0)\n",
            "Requirement already satisfied: certifi>=2017.4.17 in c:\\users\\hp\\anaconda3\\envs\\torch_env\\lib\\site-packages (from requests>=2.30.0->sphinx>=1.2.0->sphinx-argparse->indic-nlp-library) (2025.1.31)\n",
            "Note: you may need to restart the kernel to use updated packages.\n"
          ]
        }
      ],
      "source": [
        "pip install indic-nlp-library"
      ]
    },
    {
      "cell_type": "markdown",
      "metadata": {
        "id": "1uewMRJnND-C"
      },
      "source": [
        "# **Pre-processing using manual stopwords list**\n",
        "\n",
        "---\n",
        "\n",
        "\n",
        "\n",
        "---\n",
        "Using nltk libraries and manual hindi stopwords  \n"
      ]
    },
    {
      "cell_type": "code",
      "execution_count": 7,
      "metadata": {
        "colab": {
          "base_uri": "https://localhost:8080/"
        },
        "id": "Hie4kseINCLj",
        "outputId": "3235944b-6d71-40a2-f019-e8b805a4d3d7"
      },
      "outputs": [
        {
          "name": "stdout",
          "output_type": "stream",
          "text": [
            "सरकर हमश स कसन क कमई क बढन क लए नईनई सकम लत रहत ह जयद आरथक बझ पड\n",
            "\n",
            "\n"
          ]
        },
        {
          "name": "stderr",
          "output_type": "stream",
          "text": [
            "[nltk_data] Downloading package punkt to\n",
            "[nltk_data]     C:\\Users\\HP\\AppData\\Roaming\\nltk_data...\n",
            "[nltk_data]   Package punkt is already up-to-date!\n"
          ]
        }
      ],
      "source": [
        "import re\n",
        "import string\n",
        "import nltk\n",
        "from nltk.tokenize import word_tokenize\n",
        "from indicnlp.tokenize import indic_tokenize\n",
        "from indicnlp.normalize.indic_normalize import IndicNormalizerFactory\n",
        "from unidecode import unidecode\n",
        "\n",
        "factory = IndicNormalizerFactory()\n",
        "normalizer = factory.get_normalizer(\"hi\")\n",
        "\n",
        "# Hindi stopwords list\n",
        "hindi_stopwords = {\"अ\", \"अत\", \"अपना\", \"अपनी\", \"अपने\", \"अभी\", \"आ\", \"इस\", \"इसका\", \"इसकी\", \"इसके\", \"इसमें\", \"इसे\", \"उन\", \"उनका\", \"उनकी\", \"उनके\", \"उनको\", \"उस\", \"उसके\", \"उसी\", \"उसे\", \"एक\", \"एस\", \"ऐसे\", \"ओर\", \"और\", \"कई\", \"कर\", \"किसी\", \"की\", \"के\", \"को\", \"गया\", \"जैसे\", \"तक\", \"तो\", \"था\", \"थी\", \"थे\", \"दो\", \"न\", \"नहीं\", \"ने\", \"पर\", \"पहले\", \"पूरा\", \"पे\", \"फिर\", \"मगर\", \"मे\", \"में\", \"या\", \"यह\", \"यहाँ\", \"यही\", \"रहा\", \"रहे\", \"लिए\", \"लिया\", \"लेकिन\", \"व\", \"वगेरह\", \"वाले\", \"वह\", \"वहाँ\", \"वहीं\", \"वाली\", \"सकता\", \"सकते\", \"सबसे\", \"से\", \"सो\", \"संग\", \"हि\", \"ही\", \"हुआ\", \"हुई\", \"हुए\", \"हो\", \"होता\", \"होती\", \"होते\"}\n",
        "\n",
        "nltk.download('punkt')\n",
        "\n",
        "def preprocess_comment(comment):\n",
        "    # Remove emojis\n",
        "    comment = re.sub(r'[^\\w\\s]', '', comment)\n",
        "    # Normalize text\n",
        "    comment = normalizer.normalize(comment)\n",
        "    # Tokenization\n",
        "    tokens = indic_tokenize.trivial_tokenize(comment)\n",
        "    # Remove stopwords\n",
        "    tokens = [word for word in tokens if word not in hindi_stopwords]\n",
        "    # Remove punctuation and digits\n",
        "    tokens = [word for word in tokens if word not in string.punctuation and not word.isdigit()]\n",
        "    # Convert to lowercase\n",
        "    tokens = [word.lower() for word in tokens]\n",
        "    # Join tokens back to text\n",
        "    preprocessed_comment = ' '.join(tokens)\n",
        "    return preprocessed_comment\n",
        "\n",
        "comment = \"सरकार हमेशा से किसानों की कमाई को बढ़ाने के लिए नई-नई स्कीमें लाती रहती है, ताकि उन पर ज्यादा आर्थिक बोझ न पड़े\"\n",
        "preprocessed_comment = preprocess_comment(comment)\n",
        "print(preprocessed_comment)\n",
        "print('\\n')"
      ]
    },
    {
      "cell_type": "markdown",
      "metadata": {
        "id": "Qs_sojxSNMrf"
      },
      "source": [
        "# **Pre-processing using a built-in library for stopwords list**\n",
        "\n",
        "---\n",
        "\n",
        "\n",
        "\n",
        "---\n",
        "\n"
      ]
    },
    {
      "cell_type": "code",
      "execution_count": 8,
      "metadata": {
        "colab": {
          "base_uri": "https://localhost:8080/"
        },
        "id": "LPmPUrXyxCy9",
        "outputId": "659fb485-4b2c-41d6-f376-bbba8867328f"
      },
      "outputs": [
        {
          "name": "stdout",
          "output_type": "stream",
          "text": [
            "सरकर हमश कसन कमई बढन लए नईनई सकम लत रहत ह जयद आरथक बझ पड\n",
            "\n",
            "\n"
          ]
        },
        {
          "name": "stderr",
          "output_type": "stream",
          "text": [
            "[nltk_data] Downloading package punkt to\n",
            "[nltk_data]     C:\\Users\\HP\\AppData\\Roaming\\nltk_data...\n",
            "[nltk_data]   Package punkt is already up-to-date!\n"
          ]
        }
      ],
      "source": [
        "from stopwords_hindi import hindi_sw\n",
        "\n",
        "factory = IndicNormalizerFactory()\n",
        "normalizer = factory.get_normalizer(\"hi\")\n",
        "\n",
        "nltk.download('punkt')\n",
        "\n",
        "def preprocess_comment(comment):\n",
        "    # Remove emojis\n",
        "    comment = re.sub(r'[^\\w\\s]', '', comment)\n",
        "    # Normalize text\n",
        "    comment = normalizer.normalize(comment)\n",
        "    # Tokenization\n",
        "    tokens = indic_tokenize.trivial_tokenize(comment)\n",
        "\n",
        "    # Get Hindi stopwords from library\n",
        "    stopwords = hindi_sw.get_hindi_sw()\n",
        "\n",
        "    # Remove stopwords\n",
        "    tokens = [word for word in tokens if word not in stopwords]\n",
        "    # Remove punctuation and digits\n",
        "    tokens = [word for word in tokens if word not in string.punctuation and not word.isdigit()]\n",
        "    # Convert to lowercase\n",
        "    tokens = [word.lower() for word in tokens]\n",
        "    # Join tokens back to text\n",
        "    preprocessed_comment = ' '.join(tokens)\n",
        "    return preprocessed_comment\n",
        "\n",
        "comment = \"सरकार हमेशा से किसानों की कमाई को बढ़ाने के लिए नई-नई स्कीमें लाती रहती है, ताकि उन पर ज्यादा आर्थिक बोझ न पड़े\"\n",
        "preprocessed_comment = preprocess_comment(comment)\n",
        "print(preprocessed_comment)\n",
        "print('\\n')"
      ]
    },
    {
      "cell_type": "markdown",
      "metadata": {
        "id": "lVPqbCMpBJPm"
      },
      "source": [
        "# **Upload the CSV File**\n",
        "\n",
        "\n",
        "---\n",
        "\n",
        "\n",
        "\n",
        "---\n",
        "### Uploading the hindi comments file.\n"
      ]
    },
    {
      "cell_type": "code",
      "execution_count": 9,
      "metadata": {
        "colab": {
          "base_uri": "https://localhost:8080/",
          "height": 73
        },
        "id": "T7zhEM-1R_Zs",
        "outputId": "048af25c-c42d-4487-d7e5-4098b61a3aa8"
      },
      "outputs": [],
      "source": [
        "import pandas as pd\n",
        "df = pd.read_csv(\"HindiComments.csv\")\n"
      ]
    },
    {
      "cell_type": "markdown",
      "metadata": {
        "id": "8dmUVpBiBgYK"
      },
      "source": [
        "# **Pre-processing of Dataset**\n",
        "\n",
        "---\n",
        "\n",
        "\n",
        "\n",
        "---\n",
        "\n",
        "Preprocessing comments involves cleaning text, splitting it into words, converting to lowercase, removing common words (stopwords), reducing words to their base form, handling negations/contractions, correcting typos, and encoding text for analysis.\n",
        "\n",
        "Here we perform pre-processing steps like:\n",
        "\n",
        "\n",
        "1.   Removing emojis\n",
        "2.   Removing links\n",
        "3.   Removing English words\n",
        "4.   Remove Numeric values\n",
        "5.   Normalize text (stemming, lemmatization, lowercasing, etc.)\n",
        "6.   Tokenization\n",
        "\n"
      ]
    },
    {
      "cell_type": "code",
      "execution_count": 10,
      "metadata": {
        "colab": {
          "base_uri": "https://localhost:8080/"
        },
        "id": "a4chRUYa_Sfw",
        "outputId": "27ac188b-89c8-4dd5-8886-5a40886ea0b2"
      },
      "outputs": [
        {
          "name": "stderr",
          "output_type": "stream",
          "text": [
            "[nltk_data] Downloading package punkt to\n",
            "[nltk_data]     C:\\Users\\HP\\AppData\\Roaming\\nltk_data...\n",
            "[nltk_data]   Package punkt is already up-to-date!\n"
          ]
        },
        {
          "name": "stdout",
          "output_type": "stream",
          "text": [
            "Pre-processing done.\n"
          ]
        }
      ],
      "source": [
        "import pandas as pd\n",
        "from sklearn.preprocessing import LabelEncoder\n",
        "\n",
        "factory = IndicNormalizerFactory()\n",
        "normalizer = factory.get_normalizer(\"hi\")\n",
        "stopwords = hindi_sw.get_hindi_sw()\n",
        "\n",
        "nltk.download('punkt')\n",
        "\n",
        "def preprocess_text(text):\n",
        "    if not isinstance(text, str):\n",
        "        return \"\"\n",
        "    # Remove emojis\n",
        "    text = re.sub(r'[^\\w\\s]', '', text)\n",
        "    # Remove links starting with 'https'\n",
        "    text = re.sub(r'https?:\\/\\/.*[\\r\\n]*', '', text)\n",
        "    # Remove English words (assuming only Hindi text is desired)\n",
        "    text = re.sub(r'[a-zA-Z]+', '', text)\n",
        "    # Remove numeric values\n",
        "    text = re.sub(r'\\d+', '', text)\n",
        "    # Normalize text\n",
        "    text = normalizer.normalize(text)\n",
        "    # Tokenization\n",
        "    tokens = indic_tokenize.trivial_tokenize(text)\n",
        "\n",
        "    # Get Hindi stopwords from library\n",
        "    stopwords = hindi_sw.get_hindi_sw()\n",
        "\n",
        "    # Remove stopwords and punctuation in one pass\n",
        "    tokens = [word.lower() for word in tokens if word not in stopwords and word not in string.punctuation]\n",
        "    # Convert to lowercase\n",
        "    tokens = [word.lower() for word in tokens]\n",
        "    # Join tokens back to text\n",
        "    preprocessed_text = ' '.join(tokens)\n",
        "    return preprocessed_text\n",
        "\n",
        "sentiment_mapping = {\n",
        "    'defamation': 1,\n",
        "    'fake': 2,\n",
        "    'hate': 3,\n",
        "    'non-hostile': 4,\n",
        "    'offensive': 5,\n",
        "}\n",
        "\n",
        "# Load the CSV file\n",
        "df = pd.read_csv(\"HindiComments.csv\")\n",
        "\n",
        "# Apply preprocessing to the 'Post' column\n",
        "df['Preprocessed_Post'] = df['Post'].apply(preprocess_text)\n",
        "\n",
        "# Remove empty or NaN sentiments and replace them with \"none\"\n",
        "df['Labels Set'] = df['Labels Set'].fillna(\"none\")\n",
        "\n",
        "# Label all comments with two sentiments together as 3\n",
        "df['Label'] = df['Labels Set'].apply(lambda x: 3 if ',' in x else sentiment_mapping.get(x, 3))\n",
        "\n",
        "# Save the preprocessed data to a new CSV file\n",
        "df.to_csv(\"Preprocessed_HindiComments.csv\", index=False)\n",
        "\n",
        "print(\"Pre-processing done.\")"
      ]
    },
    {
      "cell_type": "markdown",
      "metadata": {
        "id": "QVTmCiK3hlwD"
      },
      "source": [
        "# **Splitting the dataset into features and labels**\n",
        "\n",
        "---\n",
        "\n",
        "\n",
        "\n",
        "---\n",
        "\n",
        "`Features:` These are the inputs or independent variables used to make predictions. They represent the characteristics or attributes of the data being analyzed. For example, in a spam email classifier, features could include word frequencies, email length, sender's address, etc.\n",
        "\n",
        "\n",
        "`Labels:` Labels are the outputs or dependent variables that we want the model to predict based on the features. They represent the target variable we are trying to predict. Using the same example of a spam email classifier, the label would indicate whether an email is spam (1) or not spam (0)."
      ]
    },
    {
      "cell_type": "code",
      "execution_count": 11,
      "metadata": {
        "colab": {
          "base_uri": "https://localhost:8080/"
        },
        "id": "gWFG3Ct9Ynvl",
        "outputId": "aa0a8db5-f300-4df8-da24-8c4460b8c6c7"
      },
      "outputs": [
        {
          "name": "stdout",
          "output_type": "stream",
          "text": [
            "   Unique ID                                               Post  \\\n",
            "0          1  मेरे देश के हिन्दु बहुत निराले है। कुछ तो पक्क...   \n",
            "1          2  सरकार हमेशा से किसानों की कमाई को बढ़ाने के लि...   \n",
            "2          3  सुशांत ने जो बिजनेस डील 9 जून को की थी, वो डील...   \n",
            "3          4  @prabhav218 साले जेएनयू छाप कमिने लोग हिन्दुओं...   \n",
            "4          5  #unlock4guidelines - अनलॉक-4 के लिए गाइडलाइन्स...   \n",
            "\n",
            "             Labels Set                                  Preprocessed_Post  \\\n",
            "0        hate,offensive  मर दश हनद बहत नरल ह कछ पकक रम भकत ह कछ बबर सल ...   \n",
            "1           non-hostile  सरकर हमश कसन कमई बढन लए नईनई सकम लत रहत ह जयद ...   \n",
            "2           non-hostile  सशत बजनस डल जन डल दपश सशत हतय दन ह कय यद आई दख...   \n",
            "3  defamation,offensive  सल जएनय छप कमन लग हनदओ कहत ह सवधन सबक बरबर अधक...   \n",
            "4           non-hostile  अनलक लए गइडलइनस जर\\n\\n सतबर दशभर मटर सव शर हग\\...   \n",
            "\n",
            "   Label  \n",
            "0      3  \n",
            "1      4  \n",
            "2      4  \n",
            "3      3  \n",
            "4      4  \n"
          ]
        }
      ],
      "source": [
        "# Check the first few rows of the dataset\n",
        "print(df.head())\n",
        "\n",
        "# Split the dataset into features (X) and labels (y)\n",
        "X = df['Preprocessed_Post']\n",
        "y = df['Label']\n"
      ]
    },
    {
      "cell_type": "markdown",
      "metadata": {
        "id": "5WQFG_k71d12"
      },
      "source": [
        "# **Class Distribution**\n",
        "\n",
        "---\n",
        "\n",
        "\n",
        "\n",
        "---\n",
        "\n",
        "Class distribution is the spread of different categories within a dataset, showing how many instances belong to each class."
      ]
    },
    {
      "cell_type": "code",
      "execution_count": 12,
      "metadata": {
        "colab": {
          "base_uri": "https://localhost:8080/"
        },
        "id": "599dqPE6Ku6p",
        "outputId": "bf0a2cb6-b681-4cfb-ce2a-28abaf4fe772"
      },
      "outputs": [
        {
          "name": "stdout",
          "output_type": "stream",
          "text": [
            "Label Counts:\n",
            "Label\n",
            "4    4358\n",
            "2    1442\n",
            "3    1376\n",
            "5     579\n",
            "1     437\n",
            "Name: count, dtype: int64\n"
          ]
        }
      ],
      "source": [
        "# Count the occurrences of each label\n",
        "label_counts = df['Label'].value_counts()\n",
        "\n",
        "# Print the label counts\n",
        "print(\"Label Counts:\")\n",
        "print(label_counts)"
      ]
    },
    {
      "cell_type": "markdown",
      "metadata": {
        "id": "52lzRHxDpPZ9"
      },
      "source": [
        "# **Visual Representation of labels per class**\n",
        "\n",
        "---\n",
        "\n",
        "\n",
        "\n",
        "---\n",
        "\n",
        "The following bar graph represents the distribution of the various classes (defamation, fake, hate, non-hostile, offensive) present in the dataset."
      ]
    },
    {
      "cell_type": "code",
      "execution_count": 13,
      "metadata": {
        "colab": {
          "base_uri": "https://localhost:8080/",
          "height": 564
        },
        "id": "q7orZNspyp6L",
        "outputId": "95d018c3-ff63-44df-e9e2-aa3a04873b60"
      },
      "outputs": [
        {
          "data": {
            "image/png": "[encoded data removed]",
            "text/plain": [
              "<Figure size 800x600 with 1 Axes>"
            ]
          },
          "metadata": {},
          "output_type": "display_data"
        }
      ],
      "source": [
        "import matplotlib.pyplot as plt\n",
        "import seaborn as sns\n",
        "\n",
        "#Class Distribution\n",
        "plt.figure(figsize=(8, 6))\n",
        "sns.countplot(data=df, x='Label')\n",
        "plt.title('Class Distribution')\n",
        "plt.xlabel('Label')\n",
        "plt.ylabel('Count')\n",
        "plt.show()"
      ]
    },
    {
      "cell_type": "markdown",
      "metadata": {
        "id": "6MCleDlKbl7D"
      },
      "source": [
        "# **Feature Extraction - TF-IDF and Train-Test Split**\n",
        "\n",
        "---\n",
        "\n",
        "\n",
        "\n",
        "---\n",
        "\n",
        "TF-IDF measures word importance in a document collection. Train-test split divides data for training and testing machine learning models."
      ]
    },
    {
      "cell_type": "code",
      "execution_count": 14,
      "metadata": {
        "id": "P5Np90UCc4F4"
      },
      "outputs": [],
      "source": [
        "from sklearn.feature_extraction.text import TfidfVectorizer\n",
        "from sklearn.model_selection import train_test_split\n",
        "\n",
        "data = pd.read_csv('Preprocessed_HindiComments.csv')\n",
        "\n",
        "# Feature Extraction: TF-IDF\n",
        "# vectorizer_tfidf = TfidfVectorizer()\n",
        "# X_tfidf = vectorizer_tfidf.fit_transform(data['Preprocessed_Post'])\n",
        "vectorizer_tfidf = TfidfVectorizer(\n",
        "    max_features=10000,  # Limit features \n",
        "    min_df=2,            # Ignore terms that appear in less than 2 docs\n",
        "    max_df=0.95,         # Ignore very common terms\n",
        "    sublinear_tf=True    # Apply sublinear tf scaling\n",
        ")\n",
        "X_tfidf = vectorizer_tfidf.fit_transform(data['Preprocessed_Post'])\n",
        "y = data['Label']\n",
        "\n",
        "# Split data into train and test sets\n",
        "X_train_tfidf, X_test_tfidf, y_train, y_test = train_test_split(X_tfidf, y, test_size=0.2, random_state=42)"
      ]
    },
    {
      "cell_type": "markdown",
      "metadata": {
        "id": "clr9oHSCbwJ9"
      },
      "source": [
        "# **Model Evaluation**\n",
        "\n",
        "\n",
        "\n",
        "---\n",
        "\n",
        "\n",
        "\n",
        "---\n",
        "\n",
        "Model evaluation assesses the performance of a machine learning model using metrics such as accuracy, precision, recall, and F1 score. It helps determine how well the model generalizes to new, unseen data and identifies areas for improvement.\n"
      ]
    },
    {
      "cell_type": "code",
      "execution_count": 15,
      "metadata": {
        "colab": {
          "base_uri": "https://localhost:8080/"
        },
        "id": "UXHzRLgfc_2n",
        "outputId": "bf5b99b7-9ed3-440a-8777-44d3293fdced"
      },
      "outputs": [
        {
          "name": "stdout",
          "output_type": "stream",
          "text": [
            "Model Evaluation Results:\n",
            "Logistic Regression: Accuracy = 0.6675\n",
            "Multinomial Naive Bayes: Accuracy = 0.6272\n",
            "Support Vector Machine: Accuracy = 0.6766\n",
            "Random Forest: Accuracy = 0.6522\n",
            "Gradient Boosting: Accuracy = 0.6254\n"
          ]
        }
      ],
      "source": [
        "from sklearn.linear_model import LogisticRegression\n",
        "from sklearn.naive_bayes import MultinomialNB\n",
        "from sklearn.svm import SVC\n",
        "from sklearn.ensemble import RandomForestClassifier, GradientBoostingClassifier\n",
        "from sklearn.metrics import accuracy_score\n",
        "\n",
        "classifiers = {\n",
        "    \"Logistic Regression\": LogisticRegression(max_iter=1000),\n",
        "    \"Multinomial Naive Bayes\": MultinomialNB(),\n",
        "    \"Support Vector Machine\": SVC(),\n",
        "    \"Random Forest\": RandomForestClassifier(),\n",
        "    \"Gradient Boosting\": GradientBoostingClassifier()\n",
        "}\n",
        "\n",
        "# Train and evaluate each classifier\n",
        "results = {}\n",
        "for name, clf in classifiers.items():\n",
        "    clf.fit(X_train_tfidf, y_train)\n",
        "    y_pred = clf.predict(X_test_tfidf)\n",
        "    accuracy = accuracy_score(y_test, y_pred)\n",
        "    results[name] = accuracy\n",
        "\n",
        "# Print results\n",
        "print(\"Model Evaluation Results:\")\n",
        "for name, acc in results.items():\n",
        "    print(f\"{name}: Accuracy = {acc:.4f}\")\n"
      ]
    },
    {
      "cell_type": "markdown",
      "metadata": {
        "id": "HKQzGIXC1Jhg"
      },
      "source": [
        "# **Model Comparison Plot**\n",
        "\n",
        "---\n",
        "\n",
        "\n",
        "\n",
        "---\n",
        "### Comparing different models on the basis of their accuracy\n"
      ]
    },
    {
      "cell_type": "code",
      "execution_count": 16,
      "metadata": {
        "colab": {
          "base_uri": "https://localhost:8080/",
          "height": 681
        },
        "id": "JhJpUAqbzVj1",
        "outputId": "3bda3b64-bc1f-4b36-d7e3-7389c1012c02"
      },
      "outputs": [
        {
          "data": {
            "image/png": "[encoded data removed]",
            "text/plain": [
              "<Figure size 1000x600 with 1 Axes>"
            ]
          },
          "metadata": {},
          "output_type": "display_data"
        }
      ],
      "source": [
        "data = {\n",
        "    'Model': ['Logistic Regression', 'Multinomial Naive Bayes', 'Support Vector Machine', 'Random Forest', 'Gradient Boosting'],\n",
        "    'Accuracy': [0.6602, 0.5869, 0.6699, 0.6351, 0.6181]\n",
        "}\n",
        "\n",
        "df = pd.DataFrame(data)\n",
        "\n",
        "bar_width = 0.35\n",
        "\n",
        "r = range(len(df))\n",
        "\n",
        "plt.figure(figsize=(10, 6))\n",
        "\n",
        "plt.bar(r, df['Accuracy'], color='blue', width=bar_width, edgecolor='grey', label='Accuracy')\n",
        "\n",
        "plt.xlabel('Model')\n",
        "plt.ylabel('Accuracy')\n",
        "plt.title('Model Evaluation Results: Accuracy')\n",
        "plt.xticks([r for r in range(len(df))], df['Model'], rotation=45)\n",
        "plt.legend()\n",
        "\n",
        "plt.show()"
      ]
    },
    {
      "cell_type": "markdown",
      "metadata": {
        "id": "2Ym41Qg7b0nz"
      },
      "source": [
        "# **Hyperparameter Tuning of Logistic Regression**\n",
        "\n",
        "---\n",
        "\n",
        "\n",
        "\n",
        "---\n",
        "\n",
        "Hyperparameter tuning of logistic regression involves optimizing parameters like regularization strength and penalty type to enhance the model's performance, typically through techniques like grid search or random search. This process aims to find the best combination of hyperparameters that minimizes prediction errors.\n",
        "\n",
        "\n",
        "\n",
        "\n",
        "\n",
        "\n"
      ]
    },
    {
      "cell_type": "code",
      "execution_count": 17,
      "metadata": {
        "colab": {
          "base_uri": "https://localhost:8080/"
        },
        "id": "b0OZMb4ee76c",
        "outputId": "1aed13df-2439-4c6b-8144-66c6c7ba3427"
      },
      "outputs": [
        {
          "name": "stdout",
          "output_type": "stream",
          "text": [
            "Best Parameters: {'C': 10, 'max_iter': 1000, 'solver': 'liblinear'}\n",
            "Best Score: 0.7054430282618203\n"
          ]
        }
      ],
      "source": [
        "from sklearn.model_selection import GridSearchCV\n",
        "\n",
        "# Load the preprocessed data\n",
        "df = pd.read_csv(\"Preprocessed_HindiComments.csv\")\n",
        "\n",
        "# Split the data into features and labels\n",
        "X = df['Preprocessed_Post']\n",
        "y = df['Label']\n",
        "\n",
        "tfidf_vectorizer = TfidfVectorizer()\n",
        "\n",
        "# Fit and transform the text data\n",
        "X_tfidf = tfidf_vectorizer.fit_transform(X)\n",
        "\n",
        "# Define the parameter grid for logistic regression\n",
        "param_grid_lr = {\n",
        "    'C': [0.001, 0.01, 0.1, 1, 10],\n",
        "    'max_iter': [1000, 2000, 3000],\n",
        "    'solver': ['lbfgs', 'liblinear', 'sag', 'saga']\n",
        "}\n",
        "\n",
        "# Perform grid search cross-validation for Logistic Regression\n",
        "# grid_search_lr = GridSearchCV(LogisticRegression(), param_grid_lr, cv=5, scoring='accuracy')\n",
        "grid_search_lr = GridSearchCV(\n",
        "    LogisticRegression(), \n",
        "    param_grid_lr, \n",
        "    cv=5, \n",
        "    scoring='accuracy',\n",
        "    n_jobs=-1  # Parallel processing\n",
        ")\n",
        "grid_search_lr.fit(X_tfidf, y)\n",
        "\n",
        "# Get best hyperparameters and best score for Logistic Regression\n",
        "best_params_lr = grid_search_lr.best_params_\n",
        "best_score_lr = grid_search_lr.best_score_\n",
        "\n",
        "print(\"Best Parameters:\", best_params_lr)\n",
        "print(\"Best Score:\", best_score_lr)\n"
      ]
    },
    {
      "cell_type": "markdown",
      "metadata": {
        "id": "qR7qhTrC20ft"
      },
      "source": [
        "# **Prediction of the label on a random comment**\n",
        "\n",
        "---\n",
        "\n",
        "\n",
        "\n",
        "---\n",
        "\n",
        "\n",
        "\n",
        "Predicting various classes (defamation, fake, hate, non-hostile, offensive) on the random comment"
      ]
    },
    {
      "cell_type": "code",
      "execution_count": 19,
      "metadata": {
        "colab": {
          "base_uri": "https://localhost:8080/"
        },
        "id": "Zi-vQdXAp2E7",
        "outputId": "836928cc-a7fc-46c6-c0cc-85ca63118416"
      },
      "outputs": [
        {
          "name": "stderr",
          "output_type": "stream",
          "text": [
            "c:\\Users\\HP\\anaconda3\\envs\\torch_env\\lib\\site-packages\\sklearn\\linear_model\\_logistic.py:1271: UserWarning: 'n_jobs' > 1 does not have any effect when 'solver' is set to 'liblinear'. Got 'n_jobs' = 16.\n",
            "  warnings.warn(\n"
          ]
        },
        {
          "name": "stdout",
          "output_type": "stream",
          "text": [
            "Predicted Label: non-hostile\n"
          ]
        }
      ],
      "source": [
        "# Function to preprocess text\n",
        "def preprocess_text(text):\n",
        "    # Remove emojis\n",
        "    text = re.sub(r'[^\\w\\s]', '', text)\n",
        "    # Remove links starting with 'https'\n",
        "    text = re.sub(r'https?:\\/\\/.*[\\r\\n]*', '', text)\n",
        "    # Remove English words (assuming only Hindi text is desired)\n",
        "    text = re.sub(r'[a-zA-Z]+', '', text)\n",
        "    # Remove numeric values\n",
        "    text = re.sub(r'\\d+', '', text)\n",
        "    # Normalize text\n",
        "    text = normalizer.normalize(text)\n",
        "    # Tokenization\n",
        "    tokens = indic_tokenize.trivial_tokenize(text)\n",
        "\n",
        "    # Get Hindi stopwords from library\n",
        "    stopwords = hindi_sw.get_hindi_sw()\n",
        "\n",
        "    # Remove stopwords\n",
        "    tokens = [word for word in tokens if word not in stopwords]\n",
        "    # Remove punctuation\n",
        "    tokens = [word for word in tokens if word not in string.punctuation]\n",
        "    # Convert to lowercase\n",
        "    tokens = [word.lower() for word in tokens]\n",
        "    # Join tokens back to text\n",
        "    preprocessed_text = ' '.join(tokens)\n",
        "    return preprocessed_text\n",
        "\n",
        "# Define reverse mapping dictionary for labels\n",
        "reverse_sentiment_mapping = {\n",
        "    1: 'defamation',\n",
        "    2: 'fake',\n",
        "    3: 'hate',\n",
        "    4: 'non-hostile',\n",
        "    5: 'offensive',\n",
        "    6: 'multiple'  # Label for comments with multiple sentiments\n",
        "}\n",
        "\n",
        "# Load the preprocessed data\n",
        "df = pd.read_csv(\"Preprocessed_HindiComments.csv\")\n",
        "\n",
        "# Split the data into features and labels\n",
        "X = df['Preprocessed_Post']\n",
        "y = df['Label']\n",
        "\n",
        "# Initialize TfidfVectorizer\n",
        "tfidf_vectorizer = TfidfVectorizer()\n",
        "\n",
        "# Fit and transform the text data\n",
        "X_tfidf = tfidf_vectorizer.fit_transform(X)\n",
        "\n",
        "# Split data into train and test sets\n",
        "X_train, X_test, y_train, y_test = train_test_split(X_tfidf, y, test_size=0.2, random_state=42)\n",
        "\n",
        "# Train logistic regression model\n",
        "# lr_model = LogisticRegression(max_iter=1000)\n",
        "lr_model = LogisticRegression(\n",
        "    C=1.0,              # From your grid search\n",
        "    solver='liblinear', # Faster for classification\n",
        "    max_iter=1000,\n",
        "    n_jobs=-1           # Use all available cores\n",
        ")\n",
        "lr_model.fit(X_train, y_train)\n",
        "\n",
        "# Load a new comment\n",
        "new_comment = input(\"Enter the comment: \")\n",
        "\n",
        "# Preprocess the new comment\n",
        "preprocessed_new_comment = preprocess_text(new_comment)\n",
        "\n",
        "# Transform the preprocessed comment using the TfidfVectorizer\n",
        "X_new_comment = tfidf_vectorizer.transform([preprocessed_new_comment])\n",
        "\n",
        "# Predict the label of the new comment\n",
        "predicted_label_encoded = lr_model.predict(X_new_comment)\n",
        "predicted_label_name = reverse_sentiment_mapping.get(predicted_label_encoded[0], 'unknown')\n",
        "\n",
        "print(\"Predicted Label:\", predicted_label_name)\n"
      ]
    }
  ],
  "metadata": {
    "colab": {
      "provenance": []
    },
    "kernelspec": {
      "display_name": "torch_env",
      "language": "python",
      "name": "python3"
    },
    "language_info": {
      "codemirror_mode": {
        "name": "ipython",
        "version": 3
      },
      "file_extension": ".py",
      "mimetype": "text/x-python",
      "name": "python",
      "nbconvert_exporter": "python",
      "pygments_lexer": "ipython3",
      "version": "3.9.21"
    }
  },
  "nbformat": 4,
  "nbformat_minor": 0
}
